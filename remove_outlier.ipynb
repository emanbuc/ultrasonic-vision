{
  "nbformat": 4,
  "nbformat_minor": 0,
  "metadata": {
    "colab": {
      "name": "Untitled1.ipynb",
      "provenance": [],
      "authorship_tag": "ABX9TyPipM9/7+CWLdzVMwyd/i2X",
      "include_colab_link": true
    },
    "kernelspec": {
      "name": "python3",
      "display_name": "Python 3"
    }
  },
  "cells": [
    {
      "cell_type": "markdown",
      "metadata": {
        "id": "view-in-github",
        "colab_type": "text"
      },
      "source": [
        "<a href=\"https://colab.research.google.com/github/emanbuc/ultrasonic-vision/blob/main/remove_outlier.ipynb\" target=\"_parent\"><img src=\"https://colab.research.google.com/assets/colab-badge.svg\" alt=\"Open In Colab\"/></a>"
      ]
    },
    {
      "cell_type": "markdown",
      "metadata": {
        "id": "YONJpsKqSTeN"
      },
      "source": [
        "# Remove Outlier form dataset (Colab)\r\n"
      ]
    },
    {
      "cell_type": "markdown",
      "metadata": {
        "id": "mxLc9LjCMOgL"
      },
      "source": [
        "## Load Data from CSV File"
      ]
    },
    {
      "cell_type": "code",
      "metadata": {
        "colab": {
          "base_uri": "https://localhost:8080/"
        },
        "id": "yCG9c23bSSCF",
        "outputId": "2150d306-4fd5-474b-9502-3a782c96c516"
      },
      "source": [
        "import matplotlib.pyplot as plt\r\n",
        "import pandas\r\n",
        "url = \"https://raw.githubusercontent.com/emanbuc/ultrasonic-vision/main/sample_acquisitions/7sensors/20210102/20210102_alldata.csv\"\r\n",
        "\r\n",
        "names = ['HCSR04_001', 'HCSR04_002', 'HCSR04_003', 'HCSR04_004', 'HCSR04_005', 'HCSR04_006', 'HCSR04_007','ObjectClass']\r\n",
        "data = pandas.read_csv(url, usecols=names)\r\n",
        "print(data)"
      ],
      "execution_count": 1,
      "outputs": [
        {
          "output_type": "stream",
          "text": [
            "     HCSR04_001  HCSR04_002  HCSR04_003  ...  HCSR04_006  HCSR04_007     ObjectClass\n",
            "0         53.25       54.19       56.01  ...       51.90       23.33     EMPTY_SEVEN\n",
            "1         53.21       54.23       55.98  ...       51.39      117.41     EMPTY_SEVEN\n",
            "2         53.16       54.62       56.41  ...       51.91      109.82     EMPTY_SEVEN\n",
            "3         53.18       54.64       56.03  ...       51.44      104.63     EMPTY_SEVEN\n",
            "4         53.31       54.58       56.39  ...       51.40      105.24     EMPTY_SEVEN\n",
            "..          ...         ...         ...  ...         ...         ...             ...\n",
            "496       40.35       19.25       38.56  ...       57.15      119.41  SQUARE_MILK_90\n",
            "497       40.43       19.68       38.56  ...       57.93      112.06  SQUARE_MILK_90\n",
            "498       40.34       19.70       38.49  ...       57.62      111.50  SQUARE_MILK_90\n",
            "499       40.42       19.70       38.51  ...       57.91      111.54  SQUARE_MILK_90\n",
            "500       40.30       19.31       38.57  ...       57.53      110.89  SQUARE_MILK_90\n",
            "\n",
            "[501 rows x 8 columns]\n"
          ],
          "name": "stdout"
        }
      ]
    },
    {
      "cell_type": "code",
      "metadata": {
        "id": "Kg294pkY_M4p",
        "outputId": "2ae5ecf7-6486-4550-f7dd-0d99ff22566b",
        "colab": {
          "base_uri": "https://localhost:8080/",
          "height": 432
        }
      },
      "source": [
        "data_grouped= data.groupby(['ObjectClass'])\r\n",
        "data_grouped.first()"
      ],
      "execution_count": 2,
      "outputs": [
        {
          "output_type": "execute_result",
          "data": {
            "text/html": [
              "<div>\n",
              "<style scoped>\n",
              "    .dataframe tbody tr th:only-of-type {\n",
              "        vertical-align: middle;\n",
              "    }\n",
              "\n",
              "    .dataframe tbody tr th {\n",
              "        vertical-align: top;\n",
              "    }\n",
              "\n",
              "    .dataframe thead th {\n",
              "        text-align: right;\n",
              "    }\n",
              "</style>\n",
              "<table border=\"1\" class=\"dataframe\">\n",
              "  <thead>\n",
              "    <tr style=\"text-align: right;\">\n",
              "      <th></th>\n",
              "      <th>HCSR04_001</th>\n",
              "      <th>HCSR04_002</th>\n",
              "      <th>HCSR04_003</th>\n",
              "      <th>HCSR04_004</th>\n",
              "      <th>HCSR04_005</th>\n",
              "      <th>HCSR04_006</th>\n",
              "      <th>HCSR04_007</th>\n",
              "    </tr>\n",
              "    <tr>\n",
              "      <th>ObjectClass</th>\n",
              "      <th></th>\n",
              "      <th></th>\n",
              "      <th></th>\n",
              "      <th></th>\n",
              "      <th></th>\n",
              "      <th></th>\n",
              "      <th></th>\n",
              "    </tr>\n",
              "  </thead>\n",
              "  <tbody>\n",
              "    <tr>\n",
              "      <th>BALL_CENTER</th>\n",
              "      <td>55.59</td>\n",
              "      <td>16.09</td>\n",
              "      <td>54.78</td>\n",
              "      <td>17.55</td>\n",
              "      <td>51.73</td>\n",
              "      <td>57.48</td>\n",
              "      <td>96.38</td>\n",
              "    </tr>\n",
              "    <tr>\n",
              "      <th>BEAN_CAN</th>\n",
              "      <td>52.81</td>\n",
              "      <td>15.54</td>\n",
              "      <td>3.97</td>\n",
              "      <td>19.05</td>\n",
              "      <td>50.48</td>\n",
              "      <td>2115.51</td>\n",
              "      <td>109.24</td>\n",
              "    </tr>\n",
              "    <tr>\n",
              "      <th>BEER_BOTTLE</th>\n",
              "      <td>18.98</td>\n",
              "      <td>18.62</td>\n",
              "      <td>18.80</td>\n",
              "      <td>18.79</td>\n",
              "      <td>50.78</td>\n",
              "      <td>119.22</td>\n",
              "      <td>111.96</td>\n",
              "    </tr>\n",
              "    <tr>\n",
              "      <th>EMPTY_SEVEN</th>\n",
              "      <td>53.25</td>\n",
              "      <td>54.19</td>\n",
              "      <td>56.01</td>\n",
              "      <td>53.70</td>\n",
              "      <td>50.57</td>\n",
              "      <td>51.90</td>\n",
              "      <td>23.33</td>\n",
              "    </tr>\n",
              "    <tr>\n",
              "      <th>GLASS</th>\n",
              "      <td>53.25</td>\n",
              "      <td>18.50</td>\n",
              "      <td>22.04</td>\n",
              "      <td>17.39</td>\n",
              "      <td>49.88</td>\n",
              "      <td>2114.98</td>\n",
              "      <td>104.41</td>\n",
              "    </tr>\n",
              "    <tr>\n",
              "      <th>RECTANGULAR_BOX</th>\n",
              "      <td>48.56</td>\n",
              "      <td>50.96</td>\n",
              "      <td>14.53</td>\n",
              "      <td>30.73</td>\n",
              "      <td>27.14</td>\n",
              "      <td>25.80</td>\n",
              "      <td>96.35</td>\n",
              "    </tr>\n",
              "    <tr>\n",
              "      <th>RECTANGULAR_BOX_SIDE</th>\n",
              "      <td>10.36</td>\n",
              "      <td>4.26</td>\n",
              "      <td>35.71</td>\n",
              "      <td>12.94</td>\n",
              "      <td>22.03</td>\n",
              "      <td>23.99</td>\n",
              "      <td>122.23</td>\n",
              "    </tr>\n",
              "    <tr>\n",
              "      <th>SOAP_BOTTLE_FRONT</th>\n",
              "      <td>16.99</td>\n",
              "      <td>15.77</td>\n",
              "      <td>15.69</td>\n",
              "      <td>16.25</td>\n",
              "      <td>50.74</td>\n",
              "      <td>2115.85</td>\n",
              "      <td>111.68</td>\n",
              "    </tr>\n",
              "    <tr>\n",
              "      <th>SOAP_BOTTLE_SIDE</th>\n",
              "      <td>19.46</td>\n",
              "      <td>53.24</td>\n",
              "      <td>33.39</td>\n",
              "      <td>18.03</td>\n",
              "      <td>50.87</td>\n",
              "      <td>2114.00</td>\n",
              "      <td>107.46</td>\n",
              "    </tr>\n",
              "    <tr>\n",
              "      <th>SQUARE_MILK_45</th>\n",
              "      <td>17.14</td>\n",
              "      <td>16.53</td>\n",
              "      <td>5101.69</td>\n",
              "      <td>16.88</td>\n",
              "      <td>50.17</td>\n",
              "      <td>53.84</td>\n",
              "      <td>106.16</td>\n",
              "    </tr>\n",
              "    <tr>\n",
              "      <th>SQUARE_MILK_90</th>\n",
              "      <td>38.21</td>\n",
              "      <td>37.10</td>\n",
              "      <td>49.73</td>\n",
              "      <td>36.79</td>\n",
              "      <td>50.61</td>\n",
              "      <td>107.64</td>\n",
              "      <td>52.36</td>\n",
              "    </tr>\n",
              "    <tr>\n",
              "      <th>WALL_BALL</th>\n",
              "      <td>53.80</td>\n",
              "      <td>49.55</td>\n",
              "      <td>54.37</td>\n",
              "      <td>50.22</td>\n",
              "      <td>51.22</td>\n",
              "      <td>53.06</td>\n",
              "      <td>105.94</td>\n",
              "    </tr>\n",
              "  </tbody>\n",
              "</table>\n",
              "</div>"
            ],
            "text/plain": [
              "                      HCSR04_001  HCSR04_002  ...  HCSR04_006  HCSR04_007\n",
              "ObjectClass                                   ...                        \n",
              "BALL_CENTER                55.59       16.09  ...       57.48       96.38\n",
              "BEAN_CAN                   52.81       15.54  ...     2115.51      109.24\n",
              "BEER_BOTTLE                18.98       18.62  ...      119.22      111.96\n",
              "EMPTY_SEVEN                53.25       54.19  ...       51.90       23.33\n",
              "GLASS                      53.25       18.50  ...     2114.98      104.41\n",
              "RECTANGULAR_BOX            48.56       50.96  ...       25.80       96.35\n",
              "RECTANGULAR_BOX_SIDE       10.36        4.26  ...       23.99      122.23\n",
              "SOAP_BOTTLE_FRONT          16.99       15.77  ...     2115.85      111.68\n",
              "SOAP_BOTTLE_SIDE           19.46       53.24  ...     2114.00      107.46\n",
              "SQUARE_MILK_45             17.14       16.53  ...       53.84      106.16\n",
              "SQUARE_MILK_90             38.21       37.10  ...      107.64       52.36\n",
              "WALL_BALL                  53.80       49.55  ...       53.06      105.94\n",
              "\n",
              "[12 rows x 7 columns]"
            ]
          },
          "metadata": {
            "tags": []
          },
          "execution_count": 2
        }
      ]
    },
    {
      "cell_type": "markdown",
      "metadata": {
        "id": "kenZQLNu_Nwc"
      },
      "source": [
        "## Remove Outlier\r\n",
        "  Find and remove outlier using IQR method"
      ]
    },
    {
      "cell_type": "code",
      "metadata": {
        "id": "_YJgT7HTIHQQ"
      },
      "source": [
        "df_all_clean = pandas.DataFrame(columns = names) \r\n",
        "for name, group in data.groupby(['ObjectClass']):\r\n",
        "    # print the name of the regiment\r\n",
        "    print(name)\r\n",
        "    # print the data of that regiment\r\n",
        "    Q1 = group.quantile(0.25)\r\n",
        "    Q3 = group.quantile(0.75)\r\n",
        "    IQR = Q3 - Q1\r\n",
        "\r\n",
        "    data_clean = group[~((group < (Q1 - 1.5 * IQR)) |(group > (Q3 + 1.5 * IQR))).any(axis=1)]\r\n",
        "    df_all_clean = pandas.concat([df_all_clean,data_clean])"
      ],
      "execution_count": null,
      "outputs": []
    },
    {
      "cell_type": "code",
      "metadata": {
        "id": "ylaWRmdKLDST"
      },
      "source": [
        "from google.colab import files\r\n",
        "filename='20210102_alldata_outlier_removed.cvs'\r\n",
        "df_all_clean.to_csv(filename,sep=',')\r\n",
        "files.download(filename)"
      ],
      "execution_count": null,
      "outputs": []
    }
  ]
}