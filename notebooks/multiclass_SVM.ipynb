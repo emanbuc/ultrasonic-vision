{
  "nbformat": 4,
  "nbformat_minor": 0,
  "metadata": {
    "colab": {
      "name": "multiclass_SVM.ipynb",
      "provenance": [],
      "authorship_tag": "ABX9TyPpfDYXMItaUZsY9mEFQEsz",
      "include_colab_link": true
    },
    "kernelspec": {
      "name": "python3",
      "display_name": "Python 3"
    }
  },
  "cells": [
    {
      "cell_type": "markdown",
      "metadata": {
        "id": "view-in-github",
        "colab_type": "text"
      },
      "source": [
        "<a href=\"https://colab.research.google.com/github/emanbuc/ultrasonic-vision/blob/main/notebooks/multiclass_SVM.ipynb\" target=\"_parent\"><img src=\"https://colab.research.google.com/assets/colab-badge.svg\" alt=\"Open In Colab\"/></a>"
      ]
    },
    {
      "cell_type": "code",
      "metadata": {
        "colab": {
          "base_uri": "https://localhost:8080/",
          "height": 519
        },
        "id": "fbcMU6eoQqa5",
        "outputId": "223b3489-8432-4d9c-ad4f-1606380ed0fc"
      },
      "source": [
        "import matplotlib.pyplot as plt\r\n",
        "import pandas\r\n",
        "url = \"https://raw.githubusercontent.com/emanbuc/ultrasonic-vision/main/dataset/20210102-cleaned.csv\"\r\n",
        "\r\n",
        "names = ['ObjectClass','distanceSumHi','distanceSumLow','differentialDistanceFromRoof65','differentialDistanceFromRoof67','differentialDistanceFromRoof57']\r\n",
        "data = pandas.read_csv(url, usecols=names)\r\n",
        "print(data)\r\n",
        "data.hist()\r\n",
        "plt.show()"
      ],
      "execution_count": 1,
      "outputs": [
        {
          "output_type": "stream",
          "text": [
            "        ObjectClass  ...  differentialDistanceFromRoof57\n",
            "0       EMPTY_SEVEN  ...                           27.24\n",
            "1       EMPTY_SEVEN  ...                          -66.92\n",
            "2       EMPTY_SEVEN  ...                          -59.71\n",
            "3       EMPTY_SEVEN  ...                          -54.14\n",
            "4       EMPTY_SEVEN  ...                          -55.13\n",
            "..              ...  ...                             ...\n",
            "264  SQUARE_MILK_90  ...                          -88.56\n",
            "265  SQUARE_MILK_90  ...                          -81.20\n",
            "266  SQUARE_MILK_90  ...                          -80.59\n",
            "267  SQUARE_MILK_90  ...                          -80.64\n",
            "268  SQUARE_MILK_90  ...                          -79.93\n",
            "\n",
            "[269 rows x 6 columns]\n"
          ],
          "name": "stdout"
        },
        {
          "output_type": "display_data",
          "data": {
            "image/png": "[encoded data removed]",
            "text/plain": [
              "<Figure size 432x288 with 6 Axes>"
            ]
          },
          "metadata": {
            "tags": [],
            "needs_background": "light"
          }
        }
      ]
    },
    {
      "cell_type": "code",
      "metadata": {
        "id": "YpchSJduXdm8"
      },
      "source": [
        "x_train = data[['distanceSumHi','distanceSumLow','differentialDistanceFromRoof65','differentialDistanceFromRoof67','differentialDistanceFromRoof57']]\r\n",
        "y_train = data[['ObjectClass']]"
      ],
      "execution_count": 2,
      "outputs": []
    },
    {
      "cell_type": "code",
      "metadata": {
        "colab": {
          "base_uri": "https://localhost:8080/",
          "height": 419
        },
        "id": "yzuOYSg_aqzP",
        "outputId": "3358e778-4bca-4b56-e6e4-0157c6d2df9c"
      },
      "source": [
        "x_train"
      ],
      "execution_count": 3,
      "outputs": [
        {
          "output_type": "execute_result",
          "data": {
            "text/html": [
              "<div>\n",
              "<style scoped>\n",
              "    .dataframe tbody tr th:only-of-type {\n",
              "        vertical-align: middle;\n",
              "    }\n",
              "\n",
              "    .dataframe tbody tr th {\n",
              "        vertical-align: top;\n",
              "    }\n",
              "\n",
              "    .dataframe thead th {\n",
              "        text-align: right;\n",
              "    }\n",
              "</style>\n",
              "<table border=\"1\" class=\"dataframe\">\n",
              "  <thead>\n",
              "    <tr style=\"text-align: right;\">\n",
              "      <th></th>\n",
              "      <th>distanceSumHi</th>\n",
              "      <th>distanceSumLow</th>\n",
              "      <th>differentialDistanceFromRoof65</th>\n",
              "      <th>differentialDistanceFromRoof67</th>\n",
              "      <th>differentialDistanceFromRoof57</th>\n",
              "    </tr>\n",
              "  </thead>\n",
              "  <tbody>\n",
              "    <tr>\n",
              "      <th>0</th>\n",
              "      <td>107.44</td>\n",
              "      <td>109.71</td>\n",
              "      <td>1.33</td>\n",
              "      <td>28.57</td>\n",
              "      <td>27.24</td>\n",
              "    </tr>\n",
              "    <tr>\n",
              "      <th>1</th>\n",
              "      <td>107.44</td>\n",
              "      <td>109.68</td>\n",
              "      <td>0.90</td>\n",
              "      <td>-66.02</td>\n",
              "      <td>-66.92</td>\n",
              "    </tr>\n",
              "    <tr>\n",
              "      <th>2</th>\n",
              "      <td>107.78</td>\n",
              "      <td>110.13</td>\n",
              "      <td>1.80</td>\n",
              "      <td>-57.91</td>\n",
              "      <td>-59.71</td>\n",
              "    </tr>\n",
              "    <tr>\n",
              "      <th>3</th>\n",
              "      <td>107.82</td>\n",
              "      <td>109.73</td>\n",
              "      <td>0.95</td>\n",
              "      <td>-53.19</td>\n",
              "      <td>-54.14</td>\n",
              "    </tr>\n",
              "    <tr>\n",
              "      <th>4</th>\n",
              "      <td>107.89</td>\n",
              "      <td>110.02</td>\n",
              "      <td>1.29</td>\n",
              "      <td>-53.84</td>\n",
              "      <td>-55.13</td>\n",
              "    </tr>\n",
              "    <tr>\n",
              "      <th>...</th>\n",
              "      <td>...</td>\n",
              "      <td>...</td>\n",
              "      <td>...</td>\n",
              "      <td>...</td>\n",
              "      <td>...</td>\n",
              "    </tr>\n",
              "    <tr>\n",
              "      <th>264</th>\n",
              "      <td>59.60</td>\n",
              "      <td>87.68</td>\n",
              "      <td>26.30</td>\n",
              "      <td>-62.26</td>\n",
              "      <td>-88.56</td>\n",
              "    </tr>\n",
              "    <tr>\n",
              "      <th>265</th>\n",
              "      <td>60.11</td>\n",
              "      <td>88.52</td>\n",
              "      <td>27.07</td>\n",
              "      <td>-54.13</td>\n",
              "      <td>-81.20</td>\n",
              "    </tr>\n",
              "    <tr>\n",
              "      <th>266</th>\n",
              "      <td>60.04</td>\n",
              "      <td>87.93</td>\n",
              "      <td>26.71</td>\n",
              "      <td>-53.88</td>\n",
              "      <td>-80.59</td>\n",
              "    </tr>\n",
              "    <tr>\n",
              "      <th>267</th>\n",
              "      <td>60.12</td>\n",
              "      <td>88.20</td>\n",
              "      <td>27.01</td>\n",
              "      <td>-53.63</td>\n",
              "      <td>-80.64</td>\n",
              "    </tr>\n",
              "    <tr>\n",
              "      <th>268</th>\n",
              "      <td>59.61</td>\n",
              "      <td>87.71</td>\n",
              "      <td>26.57</td>\n",
              "      <td>-53.36</td>\n",
              "      <td>-79.93</td>\n",
              "    </tr>\n",
              "  </tbody>\n",
              "</table>\n",
              "<p>269 rows × 5 columns</p>\n",
              "</div>"
            ],
            "text/plain": [
              "     distanceSumHi  ...  differentialDistanceFromRoof57\n",
              "0           107.44  ...                           27.24\n",
              "1           107.44  ...                          -66.92\n",
              "2           107.78  ...                          -59.71\n",
              "3           107.82  ...                          -54.14\n",
              "4           107.89  ...                          -55.13\n",
              "..             ...  ...                             ...\n",
              "264          59.60  ...                          -88.56\n",
              "265          60.11  ...                          -81.20\n",
              "266          60.04  ...                          -80.59\n",
              "267          60.12  ...                          -80.64\n",
              "268          59.61  ...                          -79.93\n",
              "\n",
              "[269 rows x 5 columns]"
            ]
          },
          "metadata": {
            "tags": []
          },
          "execution_count": 3
        }
      ]
    },
    {
      "cell_type": "code",
      "metadata": {
        "colab": {
          "base_uri": "https://localhost:8080/",
          "height": 419
        },
        "id": "Y3VGF-b3atWl",
        "outputId": "763c767d-35b0-4fa7-fd2a-e83696f43ac5"
      },
      "source": [
        "y_train"
      ],
      "execution_count": 4,
      "outputs": [
        {
          "output_type": "execute_result",
          "data": {
            "text/html": [
              "<div>\n",
              "<style scoped>\n",
              "    .dataframe tbody tr th:only-of-type {\n",
              "        vertical-align: middle;\n",
              "    }\n",
              "\n",
              "    .dataframe tbody tr th {\n",
              "        vertical-align: top;\n",
              "    }\n",
              "\n",
              "    .dataframe thead th {\n",
              "        text-align: right;\n",
              "    }\n",
              "</style>\n",
              "<table border=\"1\" class=\"dataframe\">\n",
              "  <thead>\n",
              "    <tr style=\"text-align: right;\">\n",
              "      <th></th>\n",
              "      <th>ObjectClass</th>\n",
              "    </tr>\n",
              "  </thead>\n",
              "  <tbody>\n",
              "    <tr>\n",
              "      <th>0</th>\n",
              "      <td>EMPTY_SEVEN</td>\n",
              "    </tr>\n",
              "    <tr>\n",
              "      <th>1</th>\n",
              "      <td>EMPTY_SEVEN</td>\n",
              "    </tr>\n",
              "    <tr>\n",
              "      <th>2</th>\n",
              "      <td>EMPTY_SEVEN</td>\n",
              "    </tr>\n",
              "    <tr>\n",
              "      <th>3</th>\n",
              "      <td>EMPTY_SEVEN</td>\n",
              "    </tr>\n",
              "    <tr>\n",
              "      <th>4</th>\n",
              "      <td>EMPTY_SEVEN</td>\n",
              "    </tr>\n",
              "    <tr>\n",
              "      <th>...</th>\n",
              "      <td>...</td>\n",
              "    </tr>\n",
              "    <tr>\n",
              "      <th>264</th>\n",
              "      <td>SQUARE_MILK_90</td>\n",
              "    </tr>\n",
              "    <tr>\n",
              "      <th>265</th>\n",
              "      <td>SQUARE_MILK_90</td>\n",
              "    </tr>\n",
              "    <tr>\n",
              "      <th>266</th>\n",
              "      <td>SQUARE_MILK_90</td>\n",
              "    </tr>\n",
              "    <tr>\n",
              "      <th>267</th>\n",
              "      <td>SQUARE_MILK_90</td>\n",
              "    </tr>\n",
              "    <tr>\n",
              "      <th>268</th>\n",
              "      <td>SQUARE_MILK_90</td>\n",
              "    </tr>\n",
              "  </tbody>\n",
              "</table>\n",
              "<p>269 rows × 1 columns</p>\n",
              "</div>"
            ],
            "text/plain": [
              "        ObjectClass\n",
              "0       EMPTY_SEVEN\n",
              "1       EMPTY_SEVEN\n",
              "2       EMPTY_SEVEN\n",
              "3       EMPTY_SEVEN\n",
              "4       EMPTY_SEVEN\n",
              "..              ...\n",
              "264  SQUARE_MILK_90\n",
              "265  SQUARE_MILK_90\n",
              "266  SQUARE_MILK_90\n",
              "267  SQUARE_MILK_90\n",
              "268  SQUARE_MILK_90\n",
              "\n",
              "[269 rows x 1 columns]"
            ]
          },
          "metadata": {
            "tags": []
          },
          "execution_count": 4
        }
      ]
    },
    {
      "cell_type": "code",
      "metadata": {
        "colab": {
          "base_uri": "https://localhost:8080/"
        },
        "id": "Hc10i-iXQDJW",
        "outputId": "8f847a12-e905-4c13-e0e8-b3ea5a8f325b"
      },
      "source": [
        "from sklearn.svm import SVC\r\n",
        "from sklearn.pipeline import make_pipeline,Pipeline\r\n",
        "from sklearn.preprocessing import StandardScaler\r\n",
        "import numpy as np\r\n",
        "clf = make_pipeline(StandardScaler(), SVC(gamma='auto'))\r\n",
        "clf.fit(x_train, np.ravel(y_train))\r\n",
        "Pipeline(steps=[('standardscaler', StandardScaler()),\r\n",
        "                ('svc', SVC(gamma='auto'))])\r\n"
      ],
      "execution_count": 8,
      "outputs": [
        {
          "output_type": "execute_result",
          "data": {
            "text/plain": [
              "Pipeline(memory=None,\n",
              "         steps=[('standardscaler',\n",
              "                 StandardScaler(copy=True, with_mean=True, with_std=True)),\n",
              "                ('svc',\n",
              "                 SVC(C=1.0, break_ties=False, cache_size=200, class_weight=None,\n",
              "                     coef0=0.0, decision_function_shape='ovr', degree=3,\n",
              "                     gamma='auto', kernel='rbf', max_iter=-1, probability=False,\n",
              "                     random_state=None, shrinking=True, tol=0.001,\n",
              "                     verbose=False))],\n",
              "         verbose=False)"
            ]
          },
          "metadata": {
            "tags": []
          },
          "execution_count": 8
        }
      ]
    },
    {
      "cell_type": "code",
      "metadata": {
        "id": "FzqpJE1hdOKf"
      },
      "source": [
        "x_test= [59,87,26,-53,-79]"
      ],
      "execution_count": 9,
      "outputs": []
    },
    {
      "cell_type": "code",
      "metadata": {
        "colab": {
          "base_uri": "https://localhost:8080/"
        },
        "id": "ct9VliaAaBwA",
        "outputId": "ae45a89a-3cad-43e5-b299-2bb56f0d9934"
      },
      "source": [
        "clf.predict([x_test])"
      ],
      "execution_count": 10,
      "outputs": [
        {
          "output_type": "execute_result",
          "data": {
            "text/plain": [
              "array(['SQUARE_MILK_90'], dtype=object)"
            ]
          },
          "metadata": {
            "tags": []
          },
          "execution_count": 10
        }
      ]
    },
    {
      "cell_type": "markdown",
      "metadata": {
        "id": "hUjXW5dOcj8L"
      },
      "source": [
        "## Salvataggio Modello addestrato"
      ]
    },
    {
      "cell_type": "code",
      "metadata": {
        "id": "31MI-oe4cjk0",
        "outputId": "1080a578-1327-4e4c-8887-b3be852570e8",
        "colab": {
          "base_uri": "https://localhost:8080/",
          "height": 17
        }
      },
      "source": [
        "import pickle\n",
        "from google.colab import files\n",
        "filename='svm_classificator_model_pickle.pkl'\n",
        "pickle.dump(clf, open(filename, 'wb'))\n",
        "files.download(filename)"
      ],
      "execution_count": 19,
      "outputs": [
        {
          "output_type": "display_data",
          "data": {
            "application/javascript": [
              "\n",
              "    async function download(id, filename, size) {\n",
              "      if (!google.colab.kernel.accessAllowed) {\n",
              "        return;\n",
              "      }\n",
              "      const div = document.createElement('div');\n",
              "      const label = document.createElement('label');\n",
              "      label.textContent = `Downloading \"${filename}\": `;\n",
              "      div.appendChild(label);\n",
              "      const progress = document.createElement('progress');\n",
              "      progress.max = size;\n",
              "      div.appendChild(progress);\n",
              "      document.body.appendChild(div);\n",
              "\n",
              "      const buffers = [];\n",
              "      let downloaded = 0;\n",
              "\n",
              "      const channel = await google.colab.kernel.comms.open(id);\n",
              "      // Send a message to notify the kernel that we're ready.\n",
              "      channel.send({})\n",
              "\n",
              "      for await (const message of channel.messages) {\n",
              "        // Send a message to notify the kernel that we're ready.\n",
              "        channel.send({})\n",
              "        if (message.buffers) {\n",
              "          for (const buffer of message.buffers) {\n",
              "            buffers.push(buffer);\n",
              "            downloaded += buffer.byteLength;\n",
              "            progress.value = downloaded;\n",
              "          }\n",
              "        }\n",
              "      }\n",
              "      const blob = new Blob(buffers, {type: 'application/binary'});\n",
              "      const a = document.createElement('a');\n",
              "      a.href = window.URL.createObjectURL(blob);\n",
              "      a.download = filename;\n",
              "      div.appendChild(a);\n",
              "      a.click();\n",
              "      div.remove();\n",
              "    }\n",
              "  "
            ],
            "text/plain": [
              "<IPython.core.display.Javascript object>"
            ]
          },
          "metadata": {
            "tags": []
          }
        },
        {
          "output_type": "display_data",
          "data": {
            "application/javascript": [
              "download(\"download_63f1ef80-0b40-4663-8975-d85173c48174\", \"svm_classificator_model_pickle.pkl\", 25422)"
            ],
            "text/plain": [
              "<IPython.core.display.Javascript object>"
            ]
          },
          "metadata": {
            "tags": []
          }
        }
      ]
    },
    {
      "cell_type": "markdown",
      "metadata": {
        "id": "gZw2nHOkc3px"
      },
      "source": [
        "Caricamento modello da file"
      ]
    },
    {
      "cell_type": "code",
      "metadata": {
        "id": "sopjb57ac7RG",
        "outputId": "6876fca7-e06d-4a84-e9bf-b398ca2e9c72",
        "colab": {
          "base_uri": "https://localhost:8080/"
        }
      },
      "source": [
        "load_lr_model =pickle.load(open(filename, 'rb'))\n",
        "load_lr_model.predict([x_test])"
      ],
      "execution_count": 18,
      "outputs": [
        {
          "output_type": "execute_result",
          "data": {
            "text/plain": [
              "array(['SQUARE_MILK_90'], dtype=object)"
            ]
          },
          "metadata": {
            "tags": []
          },
          "execution_count": 18
        }
      ]
    },
    {
      "cell_type": "code",
      "metadata": {
        "id": "KEphWNRxevQM"
      },
      "source": [
        "# Import PyDrive and associated libraries.\n",
        "# This only needs to be done once in a notebook.\n",
        "from pydrive.auth import GoogleAuth\n",
        "from pydrive.drive import GoogleDrive\n",
        "from google.colab import auth\n",
        "from oauth2client.client import GoogleCredentials\n",
        "auth.authenticate_user()\n",
        "gauth = GoogleAuth()\n",
        "gauth.credentials = GoogleCredentials.get_application_default()\n",
        "drive = GoogleDrive(gauth)\n",
        "uploaded = drive. .CreateFile({'title': '20210102-cleaned.csv'})\n",
        "uploaded.SetContentFile('20210102-cleaned')\n",
        "uploaded.Upload()"
      ],
      "execution_count": null,
      "outputs": []
    }
  ]
}