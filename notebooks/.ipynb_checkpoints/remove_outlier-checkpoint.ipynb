{
 "cells": [
  {
   "cell_type": "markdown",
   "metadata": {
    "id": "YONJpsKqSTeN"
   },
   "source": [
    "# Remove Outliers form dataset (IQR Method)\n",
    "\n"
   ]
  },
  {
   "cell_type": "markdown",
   "metadata": {
    "id": "mxLc9LjCMOgL"
   },
   "source": [
    "## Load Data from CSV File"
   ]
  },
  {
   "cell_type": "code",
   "execution_count": 1,
   "metadata": {
    "colab": {
     "base_uri": "https://localhost:8080/"
    },
    "id": "yCG9c23bSSCF",
    "outputId": "54efbe42-046b-4e6e-c1b9-e1036e25e4ef"
   },
   "outputs": [],
   "source": [
    "import matplotlib.pyplot as plt\n",
    "import pandas\n",
    "datasetName =\"20210102_alldata\"\n",
    "url = \"https://raw.githubusercontent.com/emanbuc/ultrasonic-vision/main/dataset/20210102_alldata.csv\"\n",
    "names = ['HCSR04_001', 'HCSR04_002', 'HCSR04_003', 'HCSR04_004', 'HCSR04_005', 'HCSR04_006', 'HCSR04_007','ObjectClass']\n",
    "data = pandas.read_csv(url, usecols=names)"
   ]
  },
  {
   "cell_type": "code",
   "execution_count": 2,
   "metadata": {
    "colab": {
     "base_uri": "https://localhost:8080/",
     "height": 432
    },
    "id": "Kg294pkY_M4p",
    "outputId": "58247403-f439-4628-b5ff-c33fc826b29b"
   },
   "outputs": [
    {
     "data": {
      "text/html": [
       "<div>\n",
       "<style scoped>\n",
       "    .dataframe tbody tr th:only-of-type {\n",
       "        vertical-align: middle;\n",
       "    }\n",
       "\n",
       "    .dataframe tbody tr th {\n",
       "        vertical-align: top;\n",
       "    }\n",
       "\n",
       "    .dataframe thead th {\n",
       "        text-align: right;\n",
       "    }\n",
       "</style>\n",
       "<table border=\"1\" class=\"dataframe\">\n",
       "  <thead>\n",
       "    <tr style=\"text-align: right;\">\n",
       "      <th></th>\n",
       "      <th>HCSR04_001</th>\n",
       "      <th>HCSR04_002</th>\n",
       "      <th>HCSR04_003</th>\n",
       "      <th>HCSR04_004</th>\n",
       "      <th>HCSR04_005</th>\n",
       "      <th>HCSR04_006</th>\n",
       "      <th>HCSR04_007</th>\n",
       "    </tr>\n",
       "    <tr>\n",
       "      <th>ObjectClass</th>\n",
       "      <th></th>\n",
       "      <th></th>\n",
       "      <th></th>\n",
       "      <th></th>\n",
       "      <th></th>\n",
       "      <th></th>\n",
       "      <th></th>\n",
       "    </tr>\n",
       "  </thead>\n",
       "  <tbody>\n",
       "    <tr>\n",
       "      <th>BALL_CENTER</th>\n",
       "      <td>55.59</td>\n",
       "      <td>16.09</td>\n",
       "      <td>54.78</td>\n",
       "      <td>17.55</td>\n",
       "      <td>51.73</td>\n",
       "      <td>57.48</td>\n",
       "      <td>96.38</td>\n",
       "    </tr>\n",
       "    <tr>\n",
       "      <th>BEAN_CAN</th>\n",
       "      <td>52.81</td>\n",
       "      <td>15.54</td>\n",
       "      <td>3.97</td>\n",
       "      <td>19.05</td>\n",
       "      <td>50.48</td>\n",
       "      <td>2115.51</td>\n",
       "      <td>109.24</td>\n",
       "    </tr>\n",
       "    <tr>\n",
       "      <th>BEER_BOTTLE</th>\n",
       "      <td>18.98</td>\n",
       "      <td>18.62</td>\n",
       "      <td>18.80</td>\n",
       "      <td>18.79</td>\n",
       "      <td>50.78</td>\n",
       "      <td>119.22</td>\n",
       "      <td>111.96</td>\n",
       "    </tr>\n",
       "    <tr>\n",
       "      <th>EMPTY_SEVEN</th>\n",
       "      <td>53.25</td>\n",
       "      <td>54.19</td>\n",
       "      <td>56.01</td>\n",
       "      <td>53.70</td>\n",
       "      <td>50.57</td>\n",
       "      <td>51.90</td>\n",
       "      <td>23.33</td>\n",
       "    </tr>\n",
       "    <tr>\n",
       "      <th>GLASS</th>\n",
       "      <td>53.25</td>\n",
       "      <td>18.50</td>\n",
       "      <td>22.04</td>\n",
       "      <td>17.39</td>\n",
       "      <td>49.88</td>\n",
       "      <td>2114.98</td>\n",
       "      <td>104.41</td>\n",
       "    </tr>\n",
       "    <tr>\n",
       "      <th>RECTANGULAR_BOX</th>\n",
       "      <td>48.56</td>\n",
       "      <td>50.96</td>\n",
       "      <td>14.53</td>\n",
       "      <td>30.73</td>\n",
       "      <td>27.14</td>\n",
       "      <td>25.80</td>\n",
       "      <td>96.35</td>\n",
       "    </tr>\n",
       "    <tr>\n",
       "      <th>RECTANGULAR_BOX_SIDE</th>\n",
       "      <td>10.36</td>\n",
       "      <td>4.26</td>\n",
       "      <td>35.71</td>\n",
       "      <td>12.94</td>\n",
       "      <td>22.03</td>\n",
       "      <td>23.99</td>\n",
       "      <td>122.23</td>\n",
       "    </tr>\n",
       "    <tr>\n",
       "      <th>SOAP_BOTTLE_FRONT</th>\n",
       "      <td>16.99</td>\n",
       "      <td>15.77</td>\n",
       "      <td>15.69</td>\n",
       "      <td>16.25</td>\n",
       "      <td>50.74</td>\n",
       "      <td>2115.85</td>\n",
       "      <td>111.68</td>\n",
       "    </tr>\n",
       "    <tr>\n",
       "      <th>SOAP_BOTTLE_SIDE</th>\n",
       "      <td>19.46</td>\n",
       "      <td>53.24</td>\n",
       "      <td>33.39</td>\n",
       "      <td>18.03</td>\n",
       "      <td>50.87</td>\n",
       "      <td>2114.00</td>\n",
       "      <td>107.46</td>\n",
       "    </tr>\n",
       "    <tr>\n",
       "      <th>SQUARE_MILK_45</th>\n",
       "      <td>17.14</td>\n",
       "      <td>16.53</td>\n",
       "      <td>5101.69</td>\n",
       "      <td>16.88</td>\n",
       "      <td>50.17</td>\n",
       "      <td>53.84</td>\n",
       "      <td>106.16</td>\n",
       "    </tr>\n",
       "    <tr>\n",
       "      <th>SQUARE_MILK_90</th>\n",
       "      <td>38.21</td>\n",
       "      <td>37.10</td>\n",
       "      <td>49.73</td>\n",
       "      <td>36.79</td>\n",
       "      <td>50.61</td>\n",
       "      <td>107.64</td>\n",
       "      <td>52.36</td>\n",
       "    </tr>\n",
       "    <tr>\n",
       "      <th>WALL_BALL</th>\n",
       "      <td>53.80</td>\n",
       "      <td>49.55</td>\n",
       "      <td>54.37</td>\n",
       "      <td>50.22</td>\n",
       "      <td>51.22</td>\n",
       "      <td>53.06</td>\n",
       "      <td>105.94</td>\n",
       "    </tr>\n",
       "  </tbody>\n",
       "</table>\n",
       "</div>"
      ],
      "text/plain": [
       "                      HCSR04_001  HCSR04_002  HCSR04_003  HCSR04_004  \\\n",
       "ObjectClass                                                            \n",
       "BALL_CENTER                55.59       16.09       54.78       17.55   \n",
       "BEAN_CAN                   52.81       15.54        3.97       19.05   \n",
       "BEER_BOTTLE                18.98       18.62       18.80       18.79   \n",
       "EMPTY_SEVEN                53.25       54.19       56.01       53.70   \n",
       "GLASS                      53.25       18.50       22.04       17.39   \n",
       "RECTANGULAR_BOX            48.56       50.96       14.53       30.73   \n",
       "RECTANGULAR_BOX_SIDE       10.36        4.26       35.71       12.94   \n",
       "SOAP_BOTTLE_FRONT          16.99       15.77       15.69       16.25   \n",
       "SOAP_BOTTLE_SIDE           19.46       53.24       33.39       18.03   \n",
       "SQUARE_MILK_45             17.14       16.53     5101.69       16.88   \n",
       "SQUARE_MILK_90             38.21       37.10       49.73       36.79   \n",
       "WALL_BALL                  53.80       49.55       54.37       50.22   \n",
       "\n",
       "                      HCSR04_005  HCSR04_006  HCSR04_007  \n",
       "ObjectClass                                               \n",
       "BALL_CENTER                51.73       57.48       96.38  \n",
       "BEAN_CAN                   50.48     2115.51      109.24  \n",
       "BEER_BOTTLE                50.78      119.22      111.96  \n",
       "EMPTY_SEVEN                50.57       51.90       23.33  \n",
       "GLASS                      49.88     2114.98      104.41  \n",
       "RECTANGULAR_BOX            27.14       25.80       96.35  \n",
       "RECTANGULAR_BOX_SIDE       22.03       23.99      122.23  \n",
       "SOAP_BOTTLE_FRONT          50.74     2115.85      111.68  \n",
       "SOAP_BOTTLE_SIDE           50.87     2114.00      107.46  \n",
       "SQUARE_MILK_45             50.17       53.84      106.16  \n",
       "SQUARE_MILK_90             50.61      107.64       52.36  \n",
       "WALL_BALL                  51.22       53.06      105.94  "
      ]
     },
     "execution_count": 2,
     "metadata": {},
     "output_type": "execute_result"
    }
   ],
   "source": [
    "data_grouped= data.groupby(['ObjectClass'])\n",
    "data_grouped.first()"
   ]
  },
  {
   "cell_type": "markdown",
   "metadata": {
    "id": "kenZQLNu_Nwc"
   },
   "source": [
    "## Remove Outlier\n",
    "  Find and remove outlier using IQR method"
   ]
  },
  {
   "cell_type": "code",
   "execution_count": 3,
   "metadata": {
    "colab": {
     "base_uri": "https://localhost:8080/"
    },
    "id": "_YJgT7HTIHQQ",
    "outputId": "ffafcf5c-60dd-4fc2-ebcf-51a21789a536",
    "scrolled": false
   },
   "outputs": [],
   "source": [
    "def RemoveOutlierIQR(rawData,columnNames,groupLabel):\n",
    "    df_all_clean = pandas.DataFrame(columns = columnNames) \n",
    "    for name, group in rawData.groupby(['ObjectClass']):\n",
    "        Q1 = group.quantile(0.25)\n",
    "        Q3 = group.quantile(0.75)\n",
    "        IQR = Q3 - Q1\n",
    "\n",
    "        data_clean = group[~((group < (Q1 - 1.5 * IQR)) |(group > (Q3 + 1.5 * IQR))).any(axis=1)]\n",
    "        df_all_clean = pandas.concat([df_all_clean,data_clean])\n",
    "    return df_all_clean"
   ]
  },
  {
   "cell_type": "code",
   "execution_count": 4,
   "metadata": {},
   "outputs": [
    {
     "name": "stderr",
     "output_type": "stream",
     "text": [
      "<ipython-input-3-c8355f3bad24>:8: FutureWarning: Automatic reindexing on DataFrame vs Series comparisons is deprecated and will raise ValueError in a future version.  Do `left, right = left.align(right, axis=1, copy=False)` before e.g. `left == right`\n",
      "  data_clean = group[~((group < (Q1 - 1.5 * IQR)) |(group > (Q3 + 1.5 * IQR))).any(axis=1)]\n",
      "<ipython-input-3-c8355f3bad24>:8: FutureWarning: Automatic reindexing on DataFrame vs Series comparisons is deprecated and will raise ValueError in a future version.  Do `left, right = left.align(right, axis=1, copy=False)` before e.g. `left == right`\n",
      "  data_clean = group[~((group < (Q1 - 1.5 * IQR)) |(group > (Q3 + 1.5 * IQR))).any(axis=1)]\n",
      "<ipython-input-3-c8355f3bad24>:8: FutureWarning: Automatic reindexing on DataFrame vs Series comparisons is deprecated and will raise ValueError in a future version.  Do `left, right = left.align(right, axis=1, copy=False)` before e.g. `left == right`\n",
      "  data_clean = group[~((group < (Q1 - 1.5 * IQR)) |(group > (Q3 + 1.5 * IQR))).any(axis=1)]\n",
      "<ipython-input-3-c8355f3bad24>:8: FutureWarning: Automatic reindexing on DataFrame vs Series comparisons is deprecated and will raise ValueError in a future version.  Do `left, right = left.align(right, axis=1, copy=False)` before e.g. `left == right`\n",
      "  data_clean = group[~((group < (Q1 - 1.5 * IQR)) |(group > (Q3 + 1.5 * IQR))).any(axis=1)]\n",
      "<ipython-input-3-c8355f3bad24>:8: FutureWarning: Automatic reindexing on DataFrame vs Series comparisons is deprecated and will raise ValueError in a future version.  Do `left, right = left.align(right, axis=1, copy=False)` before e.g. `left == right`\n",
      "  data_clean = group[~((group < (Q1 - 1.5 * IQR)) |(group > (Q3 + 1.5 * IQR))).any(axis=1)]\n",
      "<ipython-input-3-c8355f3bad24>:8: FutureWarning: Automatic reindexing on DataFrame vs Series comparisons is deprecated and will raise ValueError in a future version.  Do `left, right = left.align(right, axis=1, copy=False)` before e.g. `left == right`\n",
      "  data_clean = group[~((group < (Q1 - 1.5 * IQR)) |(group > (Q3 + 1.5 * IQR))).any(axis=1)]\n",
      "<ipython-input-3-c8355f3bad24>:8: FutureWarning: Automatic reindexing on DataFrame vs Series comparisons is deprecated and will raise ValueError in a future version.  Do `left, right = left.align(right, axis=1, copy=False)` before e.g. `left == right`\n",
      "  data_clean = group[~((group < (Q1 - 1.5 * IQR)) |(group > (Q3 + 1.5 * IQR))).any(axis=1)]\n",
      "<ipython-input-3-c8355f3bad24>:8: FutureWarning: Automatic reindexing on DataFrame vs Series comparisons is deprecated and will raise ValueError in a future version.  Do `left, right = left.align(right, axis=1, copy=False)` before e.g. `left == right`\n",
      "  data_clean = group[~((group < (Q1 - 1.5 * IQR)) |(group > (Q3 + 1.5 * IQR))).any(axis=1)]\n",
      "<ipython-input-3-c8355f3bad24>:8: FutureWarning: Automatic reindexing on DataFrame vs Series comparisons is deprecated and will raise ValueError in a future version.  Do `left, right = left.align(right, axis=1, copy=False)` before e.g. `left == right`\n",
      "  data_clean = group[~((group < (Q1 - 1.5 * IQR)) |(group > (Q3 + 1.5 * IQR))).any(axis=1)]\n",
      "<ipython-input-3-c8355f3bad24>:8: FutureWarning: Automatic reindexing on DataFrame vs Series comparisons is deprecated and will raise ValueError in a future version.  Do `left, right = left.align(right, axis=1, copy=False)` before e.g. `left == right`\n",
      "  data_clean = group[~((group < (Q1 - 1.5 * IQR)) |(group > (Q3 + 1.5 * IQR))).any(axis=1)]\n",
      "<ipython-input-3-c8355f3bad24>:8: FutureWarning: Automatic reindexing on DataFrame vs Series comparisons is deprecated and will raise ValueError in a future version.  Do `left, right = left.align(right, axis=1, copy=False)` before e.g. `left == right`\n",
      "  data_clean = group[~((group < (Q1 - 1.5 * IQR)) |(group > (Q3 + 1.5 * IQR))).any(axis=1)]\n",
      "<ipython-input-3-c8355f3bad24>:8: FutureWarning: Automatic reindexing on DataFrame vs Series comparisons is deprecated and will raise ValueError in a future version.  Do `left, right = left.align(right, axis=1, copy=False)` before e.g. `left == right`\n",
      "  data_clean = group[~((group < (Q1 - 1.5 * IQR)) |(group > (Q3 + 1.5 * IQR))).any(axis=1)]\n",
      "<ipython-input-3-c8355f3bad24>:8: FutureWarning: Automatic reindexing on DataFrame vs Series comparisons is deprecated and will raise ValueError in a future version.  Do `left, right = left.align(right, axis=1, copy=False)` before e.g. `left == right`\n",
      "  data_clean = group[~((group < (Q1 - 1.5 * IQR)) |(group > (Q3 + 1.5 * IQR))).any(axis=1)]\n",
      "<ipython-input-3-c8355f3bad24>:8: FutureWarning: Automatic reindexing on DataFrame vs Series comparisons is deprecated and will raise ValueError in a future version.  Do `left, right = left.align(right, axis=1, copy=False)` before e.g. `left == right`\n",
      "  data_clean = group[~((group < (Q1 - 1.5 * IQR)) |(group > (Q3 + 1.5 * IQR))).any(axis=1)]\n",
      "<ipython-input-3-c8355f3bad24>:8: FutureWarning: Automatic reindexing on DataFrame vs Series comparisons is deprecated and will raise ValueError in a future version.  Do `left, right = left.align(right, axis=1, copy=False)` before e.g. `left == right`\n",
      "  data_clean = group[~((group < (Q1 - 1.5 * IQR)) |(group > (Q3 + 1.5 * IQR))).any(axis=1)]\n",
      "<ipython-input-3-c8355f3bad24>:8: FutureWarning: Automatic reindexing on DataFrame vs Series comparisons is deprecated and will raise ValueError in a future version.  Do `left, right = left.align(right, axis=1, copy=False)` before e.g. `left == right`\n",
      "  data_clean = group[~((group < (Q1 - 1.5 * IQR)) |(group > (Q3 + 1.5 * IQR))).any(axis=1)]\n",
      "<ipython-input-3-c8355f3bad24>:8: FutureWarning: Automatic reindexing on DataFrame vs Series comparisons is deprecated and will raise ValueError in a future version.  Do `left, right = left.align(right, axis=1, copy=False)` before e.g. `left == right`\n",
      "  data_clean = group[~((group < (Q1 - 1.5 * IQR)) |(group > (Q3 + 1.5 * IQR))).any(axis=1)]\n",
      "<ipython-input-3-c8355f3bad24>:8: FutureWarning: Automatic reindexing on DataFrame vs Series comparisons is deprecated and will raise ValueError in a future version.  Do `left, right = left.align(right, axis=1, copy=False)` before e.g. `left == right`\n",
      "  data_clean = group[~((group < (Q1 - 1.5 * IQR)) |(group > (Q3 + 1.5 * IQR))).any(axis=1)]\n",
      "<ipython-input-3-c8355f3bad24>:8: FutureWarning: Automatic reindexing on DataFrame vs Series comparisons is deprecated and will raise ValueError in a future version.  Do `left, right = left.align(right, axis=1, copy=False)` before e.g. `left == right`\n",
      "  data_clean = group[~((group < (Q1 - 1.5 * IQR)) |(group > (Q3 + 1.5 * IQR))).any(axis=1)]\n",
      "<ipython-input-3-c8355f3bad24>:8: FutureWarning: Automatic reindexing on DataFrame vs Series comparisons is deprecated and will raise ValueError in a future version.  Do `left, right = left.align(right, axis=1, copy=False)` before e.g. `left == right`\n",
      "  data_clean = group[~((group < (Q1 - 1.5 * IQR)) |(group > (Q3 + 1.5 * IQR))).any(axis=1)]\n",
      "<ipython-input-3-c8355f3bad24>:8: FutureWarning: Automatic reindexing on DataFrame vs Series comparisons is deprecated and will raise ValueError in a future version.  Do `left, right = left.align(right, axis=1, copy=False)` before e.g. `left == right`\n",
      "  data_clean = group[~((group < (Q1 - 1.5 * IQR)) |(group > (Q3 + 1.5 * IQR))).any(axis=1)]\n",
      "<ipython-input-3-c8355f3bad24>:8: FutureWarning: Automatic reindexing on DataFrame vs Series comparisons is deprecated and will raise ValueError in a future version.  Do `left, right = left.align(right, axis=1, copy=False)` before e.g. `left == right`\n",
      "  data_clean = group[~((group < (Q1 - 1.5 * IQR)) |(group > (Q3 + 1.5 * IQR))).any(axis=1)]\n",
      "<ipython-input-3-c8355f3bad24>:8: FutureWarning: Automatic reindexing on DataFrame vs Series comparisons is deprecated and will raise ValueError in a future version.  Do `left, right = left.align(right, axis=1, copy=False)` before e.g. `left == right`\n",
      "  data_clean = group[~((group < (Q1 - 1.5 * IQR)) |(group > (Q3 + 1.5 * IQR))).any(axis=1)]\n",
      "<ipython-input-3-c8355f3bad24>:8: FutureWarning: Automatic reindexing on DataFrame vs Series comparisons is deprecated and will raise ValueError in a future version.  Do `left, right = left.align(right, axis=1, copy=False)` before e.g. `left == right`\n",
      "  data_clean = group[~((group < (Q1 - 1.5 * IQR)) |(group > (Q3 + 1.5 * IQR))).any(axis=1)]\n"
     ]
    }
   ],
   "source": [
    "data_outliers_removed=RemoveOutlierIQR(data,names,'ObjectClass')\n",
    "data_outliers_removed.to_csv(\"../dataset/\"+datasetName+\"_outliers_removed.csv\")"
   ]
  },
  {
   "cell_type": "code",
   "execution_count": null,
   "metadata": {},
   "outputs": [],
   "source": []
  },
  {
   "cell_type": "code",
   "execution_count": 5,
   "metadata": {
    "colab": {
     "base_uri": "https://localhost:8080/",
     "height": 17
    },
    "id": "ylaWRmdKLDST",
    "outputId": "87ee8b2c-29e8-44fc-805b-3236715180f3"
   },
   "outputs": [],
   "source": [
    "# Only for Colab\n",
    "#from google.colab import files\n",
    "#filename='20210102_alldata_outlier_removed.csv'\n",
    "#df_all_clean.to_csv(filename,sep=',')\n",
    "#files.download(filename)"
   ]
  },
  {
   "cell_type": "code",
   "execution_count": null,
   "metadata": {},
   "outputs": [],
   "source": []
  }
 ],
 "metadata": {
  "colab": {
   "authorship_tag": "ABX9TyO7mVdnscZYuKxRbTtSPoNx",
   "include_colab_link": true,
   "name": "Untitled1.ipynb",
   "provenance": []
  },
  "kernelspec": {
   "display_name": "Python 3",
   "language": "python",
   "name": "python3"
  },
  "language_info": {
   "codemirror_mode": {
    "name": "ipython",
    "version": 3
   },
   "file_extension": ".py",
   "mimetype": "text/x-python",
   "name": "python",
   "nbconvert_exporter": "python",
   "pygments_lexer": "ipython3",
   "version": "3.8.5"
  }
 },
 "nbformat": 4,
 "nbformat_minor": 1
}
